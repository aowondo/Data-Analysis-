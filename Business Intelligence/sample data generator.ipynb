{
 "cells": [
  {
   "cell_type": "code",
   "execution_count": 1,
   "id": "75a3982b",
   "metadata": {},
   "outputs": [],
   "source": [
    "import pandas as pd\n",
    "import numpy as np\n",
    "from datetime import datetime, timedelta\n",
    "\n"
   ]
  },
  {
   "cell_type": "code",
   "execution_count": 2,
   "id": "2597730b",
   "metadata": {},
   "outputs": [],
   "source": [
    "# Configuration\n",
    "houses = ['A1', 'A2', 'A3', 'A4', 'B1', 'B2', 'B3', 'B4']\n",
    "monthly_avg_consumption = {\n",
    "    'A1': 8.0, 'B1': 8.0,    # 8 m³/month\n",
    "    'A2': 12.0, 'A3': 12.0, 'B2': 12.0, 'B3': 12.0,  # 12 m³/month\n",
    "    'A4': 15.0, 'B4': 15.0   # 15 m³/month\n",
    "}\n"
   ]
  },
  {
   "cell_type": "code",
   "execution_count": 3,
   "id": "c7446a08",
   "metadata": {},
   "outputs": [],
   "source": [
    "unit_price = 200\n",
    "start_date = datetime(2025, 1, 1)\n",
    "end_date = datetime(2025, 12, 31)\n",
    "\n",
    "def generate_house_data(house):\n",
    "    data = []\n",
    "    current_date = start_date\n",
    "    prev_reading = 0.0\n",
    "    \n",
    "    while current_date <= end_date:\n",
    "        if current_date.day == 15:  # Monthly reading on the 15th\n",
    "            # Base consumption with seasonal variation (higher in summer)\n",
    "            season_factor = 1.2 if 5 <= current_date.month <= 9 else 0.9  # +20% in summer\n",
    "            consumption = monthly_avg_consumption[house] * season_factor * np.random.uniform(0.9, 1.1)\n",
    "            \n",
    "            # 10% chance of a leak (2-3x normal usage)\n",
    "            if np.random.random() < 0.1:\n",
    "                consumption *= np.random.uniform(2.0, 3.0)\n",
    "                leak_flag = \"(LEAK)\"\n",
    "            else:\n",
    "                leak_flag = \"\"\n",
    "            \n",
    "            current_reading = prev_reading + consumption\n",
    "            duration = 30  # Days since last reading\n",
    "            \n",
    "            data.append([\n",
    "                f\"{house}_{current_date.strftime('%m')}{leak_flag}\",\n",
    "                current_date.strftime('%d-%m-%Y'),\n",
    "                round(prev_reading, 3),\n",
    "                round(current_reading, 3),\n",
    "                round(consumption, 3),\n",
    "                duration,\n",
    "                unit_price,\n",
    "                round(consumption * unit_price, 2),\n",
    "                house\n",
    "            ])\n",
    "            prev_reading = current_reading\n",
    "            \n",
    "        current_date += timedelta(days=1)\n",
    "    \n",
    "    return pd.DataFrame(data, columns=[\n",
    "        'invoice no', 'current date', 'previous reading', \n",
    "        'current reading', 'consumption', 'duration', \n",
    "        'unit price', 'amount due', 'house_no'\n",
    "    ]\n",
    "    )"
   ]
  },
  {
   "cell_type": "code",
   "execution_count": 4,
   "id": "1473b0e0",
   "metadata": {},
   "outputs": [
    {
     "name": "stdout",
     "output_type": "stream",
     "text": [
      "Monthly average data generated successfully!\n"
     ]
    }
   ],
   "source": [
    "\n",
    "# Generate all tables\n",
    "all_tables = {house: generate_house_data(house) for house in houses}\n",
    "\n",
    "# Save to Excel\n",
    "with pd.ExcelWriter('water_meter_data_monthly_avg.xlsx') as writer:\n",
    "    for house, df in all_tables.items():\n",
    "        df.to_excel(writer, sheet_name=house, index=False)\n",
    "\n",
    "print(\"Monthly average data generated successfully!\")"
   ]
  }
 ],
 "metadata": {
  "kernelspec": {
   "display_name": "Python 3",
   "language": "python",
   "name": "python3"
  },
  "language_info": {
   "codemirror_mode": {
    "name": "ipython",
    "version": 3
   },
   "file_extension": ".py",
   "mimetype": "text/x-python",
   "name": "python",
   "nbconvert_exporter": "python",
   "pygments_lexer": "ipython3",
   "version": "3.12.2"
  }
 },
 "nbformat": 4,
 "nbformat_minor": 5
}
