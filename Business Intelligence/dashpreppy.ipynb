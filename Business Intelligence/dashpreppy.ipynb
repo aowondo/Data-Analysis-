{
 "cells": [
  {
   "cell_type": "code",
   "execution_count": 6,
   "id": "345db20e",
   "metadata": {},
   "outputs": [],
   "source": [
    "import pandas as pd\n",
    "import openpyxl as px\n",
    "from openpyxl.utils import get_column_letter\n",
    "from openpyxl.styles import Font, Alignment, PatternFill, Border, Side\n",
    "from openpyxl.worksheet.table import Table, TableStyleInfo\n"
   ]
  },
  {
   "cell_type": "code",
   "execution_count": 7,
   "id": "7ac47fab",
   "metadata": {},
   "outputs": [],
   "source": [
    "# ---- LOAD FILE ----\n",
    "file_path = \"water_mgmt.xlsm\"\n",
    "wb = px.load_workbook(file_path)\n"
   ]
  },
  {
   "cell_type": "code",
   "execution_count": 8,
   "id": "bdfea155",
   "metadata": {},
   "outputs": [],
   "source": [
    "# ---- CONVERT Sheet1 TO TABLE ----\n",
    "ws_data = wb[\"Sheet1\"]\n",
    "max_row = ws_data.max_row\n",
    "max_col = ws_data.max_column\n",
    "table_ref = f\"A1:{get_column_letter(max_col)}{max_row}\"\n",
    "\n",
    "table = Table(displayName=\"WaterData\", ref=table_ref)\n",
    "style = TableStyleInfo(\n",
    "    name=\"TableStyleMedium9\",\n",
    "    showFirstColumn=False,\n",
    "    showLastColumn=False,\n",
    "    showRowStripes=True,\n",
    "    showColumnStripes=False\n",
    ")\n",
    "table.tableStyleInfo = style\n",
    "if ws_data._tables:\n",
    "    ws_data._tables.clear()\n",
    "ws_data.add_table(table)\n"
   ]
  },
  {
   "cell_type": "code",
   "execution_count": 9,
   "id": "1c5d0bd1",
   "metadata": {},
   "outputs": [],
   "source": [
    "# ---- CREATE DASHBOARD SHEET ----\n",
    "if \"operations dashboard\" in wb.sheetnames:\n",
    "    ws_dash = wb[\"operations dashboard\"]\n",
    "    for row in ws_dash[\"A1:Z100\"]:\n",
    "        for cell in row:\n",
    "            cell.value = None\n",
    "else:\n",
    "    ws_dash = wb.create_sheet(\"operations dashboard\")\n",
    "\n",
    "# Styling\n",
    "header_font = Font(bold=True, size=12, color=\"FFFFFF\")\n",
    "card_font = Font(bold=True, size=14)\n",
    "center_align = Alignment(horizontal=\"center\", vertical=\"center\")\n",
    "card_fill = PatternFill(start_color=\"4F81BD\", end_color=\"4F81BD\", fill_type=\"solid\")\n",
    "border = Border(left=Side(style=\"thin\"), right=Side(style=\"thin\"),\n",
    "                top=Side(style=\"thin\"), bottom=Side(style=\"thin\"))\n",
    "\n",
    "# KPI titles\n",
    "kpi_titles = [\n",
    "    \"Total Water Consumption (m³)\",\n",
    "    \"Average Usage per House (m³)\",\n",
    "    \"Leak Alerts (>100 m³)\",\n",
    "    \"Data Gaps (Missing readings)\"\n",
    "]\n",
    "\n",
    "for i, title in enumerate(kpi_titles, start=1):\n",
    "    col_start = (i - 1) * 4 + 1\n",
    "    ws_dash.merge_cells(start_row=1, start_column=col_start, end_row=1, end_column=col_start+2)\n",
    "    cell = ws_dash.cell(row=1, column=col_start, value=title)\n",
    "    cell.font = header_font\n",
    "    cell.fill = card_fill\n",
    "    cell.alignment = center_align\n",
    "    cell.border = border\n",
    "    \n",
    "    ws_dash.merge_cells(start_row=2, start_column=col_start, end_row=3, end_column=col_start+2)\n",
    "    val_cell = ws_dash.cell(row=2, column=col_start, value=\"\")\n",
    "    val_cell.font = card_font\n",
    "    val_cell.alignment = center_align\n",
    "    val_cell.border = border"
   ]
  },
  {
   "cell_type": "code",
   "execution_count": 10,
   "id": "8dbf53a1",
   "metadata": {},
   "outputs": [
    {
     "name": "stdout",
     "output_type": "stream",
     "text": [
      "✅ Dashboard placeholders created. Open in Excel to link PivotTables and slicers.\n"
     ]
    }
   ],
   "source": [
    "# ---- SAVE ----\n",
    "wb.save(\"sisuli_water_mgmt_ops_dashboard.xlsx\")\n",
    "print(\"✅ Dashboard placeholders created. Open in Excel to link PivotTables and slicers.\")\n"
   ]
  }
 ],
 "metadata": {
  "kernelspec": {
   "display_name": "Python 3",
   "language": "python",
   "name": "python3"
  },
  "language_info": {
   "codemirror_mode": {
    "name": "ipython",
    "version": 3
   },
   "file_extension": ".py",
   "mimetype": "text/x-python",
   "name": "python",
   "nbconvert_exporter": "python",
   "pygments_lexer": "ipython3",
   "version": "3.12.2"
  }
 },
 "nbformat": 4,
 "nbformat_minor": 5
}
